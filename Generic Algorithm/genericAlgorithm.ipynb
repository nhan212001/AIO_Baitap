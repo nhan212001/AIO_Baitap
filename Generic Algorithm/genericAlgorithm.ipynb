{
 "cells": [
  {
   "cell_type": "code",
   "execution_count": null,
   "id": "0",
   "metadata": {},
   "outputs": [],
   "source": [
    "import numpy as np\n",
    "import matplotlib.pyplot as plt\n",
    "import random\n",
    "\n",
    "random.seed(0)\n",
    "\n",
    "\n",
    "def load_data_from_file(fileName=\"../Linear Regression/advertising.csv\"):\n",
    "    data = np.genfromtxt(fileName, dtype=None, delimiter=\",\", skip_header=1)\n",
    "    features_X = data[:, :3]\n",
    "    sales_Y = data[:, 3]\n",
    "    features_X = np.hstack([np.ones((features_X.shape[0], 1)), features_X])\n",
    "    return features_X, sales_Y"
   ]
  },
  {
   "cell_type": "code",
   "execution_count": null,
   "id": "1",
   "metadata": {},
   "outputs": [],
   "source": [
    "features_X, sales_Y = load_data_from_file()\n",
    "print(features_X[:5, :])\n",
    "print(sales_Y.shape)"
   ]
  },
  {
   "cell_type": "code",
   "execution_count": null,
   "id": "2",
   "metadata": {},
   "outputs": [],
   "source": [
    "def generate_random_value(bound=10):\n",
    "    return (random.random() - 0.5) * bound\n",
    "\n",
    "\n",
    "def create_individual(n=4, bound=10):\n",
    "    individual = np.zeros(n)\n",
    "    for i in range(n):\n",
    "        individual[i] = generate_random_value(bound)\n",
    "\n",
    "    return individual"
   ]
  },
  {
   "cell_type": "code",
   "execution_count": null,
   "id": "3",
   "metadata": {},
   "outputs": [],
   "source": [
    "individual = create_individual()\n",
    "print(individual)"
   ]
  },
  {
   "cell_type": "code",
   "execution_count": null,
   "id": "4",
   "metadata": {},
   "outputs": [],
   "source": [
    "def compute_loss(individual):\n",
    "    theta = np.array(individual)\n",
    "    y_hat = features_X.dot(theta)\n",
    "    loss = np.mean((y_hat - sales_Y) ** 2)\n",
    "    return loss\n",
    "\n",
    "\n",
    "def compute_fitness(individual):\n",
    "    loss = compute_loss(individual)\n",
    "    # fitness càng cao thì loss càng thấp\n",
    "    fitness = 1 / (1 + loss)\n",
    "\n",
    "    return fitness"
   ]
  },
  {
   "cell_type": "code",
   "execution_count": null,
   "id": "5",
   "metadata": {},
   "outputs": [],
   "source": [
    "individual = [4.09, 4.82, 3.10, 4.02]\n",
    "fitness_score = compute_fitness(individual)\n",
    "print(fitness_score)"
   ]
  },
  {
   "cell_type": "code",
   "execution_count": null,
   "id": "6",
   "metadata": {},
   "outputs": [],
   "source": [
    "def crossover(individual1, individual2, crossover_rate=0.9):\n",
    "    individual1_new = individual1.copy()\n",
    "    individual2_new = individual2.copy()\n",
    "\n",
    "    for i in range(len(individual1)):\n",
    "        if random.random() < crossover_rate:\n",
    "            individual1_new[i], individual2_new[i] = (\n",
    "                individual2_new[i],\n",
    "                individual1_new[i],\n",
    "            )\n",
    "        else:\n",
    "            pass\n",
    "\n",
    "    return individual1_new, individual2_new"
   ]
  },
  {
   "cell_type": "code",
   "execution_count": null,
   "id": "7",
   "metadata": {},
   "outputs": [],
   "source": [
    "individual1 = [4.09, 4.82, 3.10, 4.02]\n",
    "individual2 = [3.44, 2.57, -0.79, -2.41]\n",
    "individual1, individual2 = crossover(individual1, individual2, 2.0)\n",
    "print(\" individual1 : \", individual1)\n",
    "print(\" individual2 : \", individual2)"
   ]
  },
  {
   "cell_type": "code",
   "execution_count": null,
   "id": "8",
   "metadata": {},
   "outputs": [],
   "source": [
    "def mutate(individual, mutation_rate=0.05):\n",
    "    individual_m = individual.copy()\n",
    "    for i in range(len(individual)):\n",
    "        if random.random() < mutation_rate:\n",
    "            individual_m[i] = generate_random_value()\n",
    "\n",
    "    return individual_m"
   ]
  },
  {
   "cell_type": "code",
   "execution_count": null,
   "id": "9",
   "metadata": {},
   "outputs": [],
   "source": [
    "before_individual = [4.09, 4.82, 3.10, 4.02]\n",
    "after_individual = mutate(individual, mutation_rate=1)\n",
    "print(before_individual == after_individual)"
   ]
  },
  {
   "cell_type": "code",
   "execution_count": null,
   "id": "10",
   "metadata": {},
   "outputs": [],
   "source": [
    "def initializePopulation(m):\n",
    "    population = [create_individual() for _ in range(m)]\n",
    "    return population"
   ]
  },
  {
   "cell_type": "code",
   "execution_count": null,
   "id": "11",
   "metadata": {},
   "outputs": [],
   "source": [
    "population = initializePopulation(100)\n",
    "print(len(population))"
   ]
  },
  {
   "cell_type": "code",
   "execution_count": null,
   "id": "12",
   "metadata": {},
   "outputs": [],
   "source": [
    "def selection(sorted_old_population, m):\n",
    "    index1 = random.randint(0, m - 1)\n",
    "    while True:\n",
    "        index2 = random.randint(0, m - 1)\n",
    "        if index2 != index1:\n",
    "            break\n",
    "\n",
    "    individual_s = sorted_old_population[index1]\n",
    "    if index2 > index1:\n",
    "        individual_s = sorted_old_population[index2]\n",
    "\n",
    "    return individual_s"
   ]
  },
  {
   "cell_type": "code",
   "execution_count": null,
   "id": "13",
   "metadata": {},
   "outputs": [],
   "source": [
    "population = initializePopulation(m=100)\n",
    "individual_s = selection(population, m=100)\n",
    "print(individual_s)"
   ]
  },
  {
   "cell_type": "code",
   "execution_count": null,
   "id": "14",
   "metadata": {},
   "outputs": [],
   "source": [
    "def create_new_population(old_population, elitism=2, gen=1):\n",
    "    m = len(old_population)\n",
    "    sorted_population = sorted(old_population, key=compute_fitness)\n",
    "\n",
    "    if gen % 1 == 0:\n",
    "        print(\n",
    "            \"Generation: \",\n",
    "            gen,\n",
    "            \"Best fitness score:\",\n",
    "            compute_fitness(sorted_population[m - 1]),\n",
    "            \"Best loss:\",\n",
    "            compute_loss(sorted_population[m - 1]),\n",
    "            \"with chromsome: \",\n",
    "            sorted_population[m - 1],\n",
    "        )\n",
    "\n",
    "    new_population = []\n",
    "    while len(new_population) < m - elitism:\n",
    "        # selection\n",
    "        individual1 = selection(sorted_population, m)\n",
    "        individual2 = selection(sorted_population, m)\n",
    "\n",
    "        # crossover\n",
    "        individual1_new, individual2_new = crossover(individual1, individual2)\n",
    "\n",
    "        # mutation\n",
    "        individual1_new = mutate(individual1_new)\n",
    "        individual2_new = mutate(individual2_new)\n",
    "\n",
    "        # add new individuals to new population\n",
    "        new_population.append(individual1_new)\n",
    "        new_population.append(individual2_new)\n",
    "        # copy elitism chromosomes that have best fitness score to the next generation\n",
    "    for ind in sorted_population[m - elitism :]:\n",
    "        new_population.append(ind)\n",
    "\n",
    "    return new_population, compute_loss(sorted_population[-1])"
   ]
  },
  {
   "cell_type": "code",
   "execution_count": null,
   "id": "15",
   "metadata": {},
   "outputs": [],
   "source": [
    "old_population = initializePopulation(10)\n",
    "new_population, _ = create_new_population(old_population, elitism=2, gen=1)\n",
    "len(new_population)"
   ]
  },
  {
   "cell_type": "code",
   "execution_count": null,
   "id": "16",
   "metadata": {},
   "outputs": [],
   "source": [
    "def run_GA(n_generations=100, m=600):\n",
    "    population = initializePopulation(m)\n",
    "    losses_list = []\n",
    "    for i in range(n_generations):\n",
    "        population, loss = create_new_population(population, elitism=2, gen=i)\n",
    "        losses_list.append(loss)\n",
    "\n",
    "    return losses_list, population"
   ]
  },
  {
   "cell_type": "code",
   "execution_count": null,
   "id": "17",
   "metadata": {},
   "outputs": [],
   "source": [
    "import matplotlib.pyplot as plt\n",
    "\n",
    "\n",
    "def visualize_loss(losses_list):\n",
    "    plt.plot(losses_list)\n",
    "    plt.title(\"Loss vs Generations\")\n",
    "    plt.xlabel(\"Generations\")\n",
    "    plt.ylabel(\"Loss\")\n",
    "    plt.show()\n",
    "\n",
    "\n",
    "losses_list, population = run_GA(\n",
    "    n_generations=100,\n",
    "    m=600,\n",
    ")\n",
    "visualize_loss(losses_list)\n",
    "population[-1]"
   ]
  },
  {
   "cell_type": "code",
   "execution_count": null,
   "id": "18",
   "metadata": {},
   "outputs": [],
   "source": [
    "def visualize_predict_gt():\n",
    "  # visualization of ground truth and predict value\n",
    "  sorted_population = sorted(population, key=compute_fitness)\n",
    "  print(sorted_population[-1])\n",
    "  theta = np.array(sorted_population[-1])\n",
    "\n",
    "  estimated_prices = []\n",
    "  for feature in features_X:\n",
    "     # ************* your code here *************\n",
    "\n",
    "  fig, ax = plt.subplots(figsize=(10, 6))\n",
    "  plt.xlabel('Samples')\n",
    "  plt.ylabel('Price')\n",
    "  plt.plot(sales_Y, c='green', label='Real Prices')\n",
    "  plt.plot(estimated_prices, c='blue', label='Estimated Prices')\n",
    "  plt.legend()\n",
    "  plt.show()\n",
    "\n",
    "visualize_predict_gt()"
   ]
  },
  {
   "cell_type": "code",
   "execution_count": null,
   "id": "19",
   "metadata": {},
   "outputs": [],
   "source": [
    "# visualization of ground truth and predict value\n",
    "sorted_population = sorted(population, key=compute_fitness)\n",
    "print(sorted_population[-1])\n",
    "theta = np.array(sorted_population[-1])\n",
    "\n",
    "estimated_prices = []\n",
    "samples = [i for i in range(len(features_X))]\n",
    "for feature in features_X:\n",
    "    estimated_price = sum(c * x for x, c in zip(feature, theta))\n",
    "    estimated_prices.append(estimated_price)\n",
    "fig, ax = plt.subplots(figsize=(10, 6))\n",
    "# plt.plot(prices, c='green')\n",
    "# plt.plot(estimated_prices, c='red')\n",
    "plt.xlabel(\"Samples\")\n",
    "plt.ylabel(\"Price\")\n",
    "plt.scatter(samples, sales_Y, c=\"green\", label=\"Real Prices\")\n",
    "plt.scatter(samples, estimated_prices, c=\"blue\", label=\"Estimated Prices\")\n",
    "plt.legend()\n",
    "plt.show()"
   ]
  }
 ],
 "metadata": {
  "kernelspec": {
   "display_name": ".venv",
   "language": "python",
   "name": "python3"
  },
  "language_info": {
   "codemirror_mode": {
    "name": "ipython",
    "version": 3
   },
   "file_extension": ".py",
   "mimetype": "text/x-python",
   "name": "python",
   "nbconvert_exporter": "python",
   "pygments_lexer": "ipython3",
   "version": "3.10.6"
  }
 },
 "nbformat": 4,
 "nbformat_minor": 5
}
