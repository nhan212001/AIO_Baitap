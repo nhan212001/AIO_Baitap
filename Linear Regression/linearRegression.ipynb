{
 "cells": [
  {
   "cell_type": "code",
   "execution_count": 41,
   "metadata": {},
   "outputs": [],
   "source": [
    "import numpy as np\n",
    "import matplotlib.pyplot as plt\n",
    "import random\n",
    "import pandas as pd"
   ]
  },
  {
   "cell_type": "code",
   "execution_count": 42,
   "metadata": {},
   "outputs": [],
   "source": [
    "def get_column(data, index):\n",
    "    result = []\n",
    "    for row in data:\n",
    "        result.append(row[index])\n",
    "\n",
    "    return result\n",
    "\n",
    "\n",
    "def prepare_data(file_name_dataset):\n",
    "    data = np.genfromtxt(file_name_dataset, delimiter=\",\", skip_header=1).tolist()\n",
    "    colums = np.genfromtxt(\n",
    "        file_name_dataset, delimiter=\",\", max_rows=1, dtype=str\n",
    "    ).tolist()\n",
    "    N = len(data)\n",
    "\n",
    "    print(f\"Number of rows in the dataset: {N}\")\n",
    "\n",
    "    # get tv (index=0)\n",
    "    tv_data = get_column(data, 0)\n",
    "\n",
    "    # get radio (index=1)\n",
    "    radio_data = get_column(data, 1)\n",
    "\n",
    "    # get newspaper (index=2)\n",
    "    newspaper_data = get_column(data, 2)\n",
    "\n",
    "    # get sales ( index =3)\n",
    "    sales_data = get_column(data, 3)\n",
    "\n",
    "    # building X input and y output for training\n",
    "    X = [tv_data, radio_data, newspaper_data]\n",
    "    y = sales_data\n",
    "    return X, y, data, colums"
   ]
  },
  {
   "cell_type": "code",
   "execution_count": 43,
   "metadata": {},
   "outputs": [
    {
     "name": "stdout",
     "output_type": "stream",
     "text": [
      "Number of rows in the dataset: 200\n"
     ]
    },
    {
     "data": {
      "text/html": [
       "<div>\n",
       "<style scoped>\n",
       "    .dataframe tbody tr th:only-of-type {\n",
       "        vertical-align: middle;\n",
       "    }\n",
       "\n",
       "    .dataframe tbody tr th {\n",
       "        vertical-align: top;\n",
       "    }\n",
       "\n",
       "    .dataframe thead th {\n",
       "        text-align: right;\n",
       "    }\n",
       "</style>\n",
       "<table border=\"1\" class=\"dataframe\">\n",
       "  <thead>\n",
       "    <tr style=\"text-align: right;\">\n",
       "      <th></th>\n",
       "      <th>TV</th>\n",
       "      <th>Radio</th>\n",
       "      <th>Newspaper</th>\n",
       "      <th>Sales</th>\n",
       "    </tr>\n",
       "  </thead>\n",
       "  <tbody>\n",
       "    <tr>\n",
       "      <th>0</th>\n",
       "      <td>230.1</td>\n",
       "      <td>37.8</td>\n",
       "      <td>69.2</td>\n",
       "      <td>22.1</td>\n",
       "    </tr>\n",
       "    <tr>\n",
       "      <th>1</th>\n",
       "      <td>44.5</td>\n",
       "      <td>39.3</td>\n",
       "      <td>45.1</td>\n",
       "      <td>10.4</td>\n",
       "    </tr>\n",
       "    <tr>\n",
       "      <th>2</th>\n",
       "      <td>17.2</td>\n",
       "      <td>45.9</td>\n",
       "      <td>69.3</td>\n",
       "      <td>12.0</td>\n",
       "    </tr>\n",
       "    <tr>\n",
       "      <th>3</th>\n",
       "      <td>151.5</td>\n",
       "      <td>41.3</td>\n",
       "      <td>58.5</td>\n",
       "      <td>16.5</td>\n",
       "    </tr>\n",
       "    <tr>\n",
       "      <th>4</th>\n",
       "      <td>180.8</td>\n",
       "      <td>10.8</td>\n",
       "      <td>58.4</td>\n",
       "      <td>17.9</td>\n",
       "    </tr>\n",
       "  </tbody>\n",
       "</table>\n",
       "</div>"
      ],
      "text/plain": [
       "      TV  Radio  Newspaper  Sales\n",
       "0  230.1   37.8       69.2   22.1\n",
       "1   44.5   39.3       45.1   10.4\n",
       "2   17.2   45.9       69.3   12.0\n",
       "3  151.5   41.3       58.5   16.5\n",
       "4  180.8   10.8       58.4   17.9"
      ]
     },
     "execution_count": 43,
     "metadata": {},
     "output_type": "execute_result"
    }
   ],
   "source": [
    "X, y, data, columns = prepare_data(\"advertising.csv\")\n",
    "df = pd.DataFrame(data, columns=columns)\n",
    "df.head()  # Display the first few rows of the table"
   ]
  },
  {
   "cell_type": "code",
   "execution_count": 44,
   "metadata": {},
   "outputs": [],
   "source": [
    "def initialize_params():\n",
    "    w1 = random.gauss(mu=0.0, sigma=0.01)\n",
    "    w2 = random.gauss(mu=0.0, sigma=0.01)\n",
    "    w3 = random.gauss(mu=0.0, sigma=0.01)\n",
    "    b = 0\n",
    "    return w1, w2, w3, b\n",
    "\n",
    "\n",
    "def predict(x1, x2, x3, w1, w2, w3, b):\n",
    "    result = w1 * x1 + w2 * x2 + w3 * x3 + b\n",
    "    return result\n",
    "\n",
    "\n",
    "def compute_loss(y, y_hat):\n",
    "    # MSE loss\n",
    "    loss = (y_hat - y) ** 2\n",
    "    return loss\n",
    "\n",
    "\n",
    "# compute gradient\n",
    "def compute_gradient(xi, y, y_hat):\n",
    "    dl_dwi = 2 * (y_hat - y) * xi\n",
    "    return dl_dwi\n",
    "\n",
    "\n",
    "# update weights\n",
    "def update_weight(wi, dl_dwi, lr):\n",
    "    wi = wi - lr * dl_dwi\n",
    "    return wi"
   ]
  },
  {
   "cell_type": "code",
   "execution_count": 45,
   "metadata": {},
   "outputs": [],
   "source": [
    "def implement_linear_regression(\n",
    "    X_data, y_data, epoch_max=50, lr=1e-5, min_lr=1e-10, epoch_to_decrease_lr=5\n",
    "):\n",
    "    losses = []\n",
    "    w1, w2, w3, b = initialize_params()\n",
    "    # w1: 0.06081235754988527, w2: 0.12503139892711163, w3: 0.0022029087986413665, b: 3.2753444143209567\n",
    "    print(f\"init w1: {w1}, w2: {w2}, w3: {w3}, b: {b}\")\n",
    "\n",
    "    N = len(y_data)\n",
    "    # epochs_not_improve = 0\n",
    "    # min_loss = float(\"inf\")\n",
    "\n",
    "    for epoch in range(epoch_max):\n",
    "        loss_this_epoch = 0\n",
    "        for i in range(N):\n",
    "            x1 = X_data[0][i]\n",
    "            x2 = X_data[1][i]\n",
    "            x3 = X_data[2][i]\n",
    "            y = y_data[i]\n",
    "\n",
    "            # dự đoán giá trị y_hat và tính toán loss\n",
    "            y_hat = predict(x1, x2, x3, w1, w2, w3, b)\n",
    "            loss = compute_loss(y, y_hat)\n",
    "\n",
    "            # tính toán gradient\n",
    "            dl_dw1 = compute_gradient(x1, y, y_hat)\n",
    "            dl_dw2 = compute_gradient(x2, y, y_hat)\n",
    "            dl_dw3 = compute_gradient(x3, y, y_hat)\n",
    "            dl_db = compute_gradient(1, y, y_hat)\n",
    "\n",
    "            # cập nhật trọng số\n",
    "            w1 = update_weight(w1, dl_dw1, lr)\n",
    "            w2 = update_weight(w2, dl_dw2, lr)\n",
    "            w3 = update_weight(w3, dl_dw3, lr)\n",
    "            b = update_weight(b, dl_db, lr)\n",
    "\n",
    "            # tổng loss trong epoch\n",
    "            loss_this_epoch += loss\n",
    "\n",
    "        loss_this_epoch /= N\n",
    "        losses.append(loss_this_epoch)\n",
    "\n",
    "        # cập nhật learning rate nếu loss không giảm sau vài epoch\n",
    "        # if loss_this_epoch < min_loss:\n",
    "        #     min_loss = loss_this_epoch\n",
    "        #     epochs_not_improve = 0\n",
    "        # else:\n",
    "        #     epochs_not_improve += 1\n",
    "\n",
    "        # if epochs_not_improve >= epoch_to_decrease_lr:\n",
    "        #     lr = max(lr / 10, min_lr)\n",
    "        #     print(f\"Learning rate decreased to {lr}\")\n",
    "        #     epochs_not_improve = 0\n",
    "        # if epoch % 10 == 0:\n",
    "        #     print(\n",
    "        #         f\"epoch: {epoch}, loss: {loss_this_epoch}, w1: {w1}, w2: {w2}, w3: {w3}, b: {b}\"\n",
    "        #     )\n",
    "\n",
    "    return w1, w2, w3, b, losses"
   ]
  },
  {
   "cell_type": "code",
   "execution_count": 48,
   "metadata": {},
   "outputs": [
    {
     "name": "stdout",
     "output_type": "stream",
     "text": [
      "init w1: 0.0020845368660954602, w2: -0.019173083486517053, w3: 0.006141598607390823, b: 0\n"
     ]
    }
   ],
   "source": [
    "w1, w2, w3, b, losses = implement_linear_regression(X, y, epoch_max=100, lr=1e-5)"
   ]
  },
  {
   "cell_type": "code",
   "execution_count": 49,
   "metadata": {},
   "outputs": [
    {
     "name": "stdout",
     "output_type": "stream",
     "text": [
      "w1 =  0.0734950792472428\n",
      "w2 =  0.1577180658226157\n",
      "w3 =  0.016906449118711572\n",
      "b =  0.27293965080079197\n"
     ]
    },
    {
     "data": {
      "image/png": "[encoded data removed]",
      "text/plain": [
       "<Figure size 640x480 with 1 Axes>"
      ]
     },
     "metadata": {},
     "output_type": "display_data"
    }
   ],
   "source": [
    "print(\"w1 = \", w1)\n",
    "print(\"w2 = \", w2)\n",
    "print(\"w3 = \", w3)\n",
    "print(\"b = \", b)\n",
    "\n",
    "plt.plot(losses)\n",
    "plt.xlabel(\"iteration\")\n",
    "plt.ylabel(\"loss\")\n",
    "plt.title(\"Loss vs Iteration\")\n",
    "plt.show()"
   ]
  }
 ],
 "metadata": {
  "kernelspec": {
   "display_name": ".venv",
   "language": "python",
   "name": "python3"
  },
  "language_info": {
   "codemirror_mode": {
    "name": "ipython",
    "version": 3
   },
   "file_extension": ".py",
   "mimetype": "text/x-python",
   "name": "python",
   "nbconvert_exporter": "python",
   "pygments_lexer": "ipython3",
   "version": "3.10.6"
  }
 },
 "nbformat": 4,
 "nbformat_minor": 2
}
