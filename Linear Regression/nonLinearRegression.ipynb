{
 "cells": [
  {
   "cell_type": "code",
   "execution_count": 108,
   "id": "f7d4edf9",
   "metadata": {},
   "outputs": [],
   "source": [
    "import numpy as np\n",
    "import pandas as pd\n",
    "import matplotlib.pyplot as plt\n",
    "from sklearn.model_selection import train_test_split"
   ]
  },
  {
   "cell_type": "code",
   "execution_count": 109,
   "id": "5204eded",
   "metadata": {},
   "outputs": [
    {
     "data": {
      "text/plain": [
       "(   YearsExperience  Salary\n",
       " 0                0    6.50\n",
       " 1                2    8.06\n",
       " 2                4   12.25\n",
       " 3                6   17.72\n",
       " 4                8   21.77,\n",
       " (16, 2))"
      ]
     },
     "execution_count": 109,
     "metadata": {},
     "output_type": "execute_result"
    }
   ],
   "source": [
    "df = pd.read_csv(\"./salary.csv\")\n",
    "df.head(), df.shape"
   ]
  },
  {
   "cell_type": "code",
   "execution_count": 110,
   "id": "45ce7cfa",
   "metadata": {},
   "outputs": [
    {
     "data": {
      "text/plain": [
       "(16,)"
      ]
     },
     "execution_count": 110,
     "metadata": {},
     "output_type": "execute_result"
    }
   ],
   "source": [
    "X = df.YearsExperience\n",
    "y = df.Salary\n",
    "X.shape"
   ]
  },
  {
   "cell_type": "code",
   "execution_count": 111,
   "id": "a1ffe676",
   "metadata": {},
   "outputs": [
    {
     "data": {
      "text/plain": [
       "Text(0.5, 0, 'Years of Experience')"
      ]
     },
     "execution_count": 111,
     "metadata": {},
     "output_type": "execute_result"
    },
    {
     "data": {
      "image/png": "[encoded data removed]",
      "text/plain": [
       "<Figure size 640x480 with 1 Axes>"
      ]
     },
     "metadata": {},
     "output_type": "display_data"
    }
   ],
   "source": [
    "plt.scatter(df[\"YearsExperience\"], df[\"Salary\"])\n",
    "plt.xlabel(\"Years of Experience\")"
   ]
  },
  {
   "cell_type": "code",
   "execution_count": 112,
   "id": "f91a095f",
   "metadata": {},
   "outputs": [],
   "source": [
    "def r2score(y_true, y_pred):\n",
    "    \"\"\"\n",
    "    Calculate the R^2 score\n",
    "    \"\"\"\n",
    "    ss_res = np.sum((y_true - y_pred) ** 2)\n",
    "    ss_tot = np.sum((y_true - np.mean(y_true)) ** 2)\n",
    "    return 1 - (ss_res / ss_tot)"
   ]
  },
  {
   "cell_type": "code",
   "execution_count": 113,
   "id": "5a7dca25",
   "metadata": {},
   "outputs": [],
   "source": [
    "class LinearRegression:\n",
    "    def __init__(self, X, y, learning_rate=0.01, epochs=1000):\n",
    "        self.X = X\n",
    "        self.y = y\n",
    "        self.learning_rate = learning_rate\n",
    "        self.epochs = epochs\n",
    "        self.num_samples = X.shape[0]\n",
    "\n",
    "        self.theta = np.random.rand(X.shape[1])\n",
    "        self.loss = []\n",
    "\n",
    "    def compute_loss(self, y_pred, y):\n",
    "        return np.mean((y_pred - y) ** 2)\n",
    "\n",
    "    def predict(self, X):\n",
    "        return np.dot(X, self.theta)\n",
    "\n",
    "    def fit(self):\n",
    "        for epoch in range(self.epochs):\n",
    "            y_pred = self.predict(self.X)\n",
    "            loss = self.compute_loss(y_pred, self.y)\n",
    "            self.loss.append(loss)\n",
    "            gradient = self.X.T.dot(y_pred - self.y) / self.num_samples\n",
    "            self.theta -= self.learning_rate * gradient\n",
    "            print(f\"Epoch {epoch}/{self.epochs}, Loss: {loss:.4f}\")\n",
    "\n",
    "        return {\"weight\": self.theta, \"loss\": self.loss[-1]}"
   ]
  },
  {
   "cell_type": "code",
   "execution_count": 114,
   "id": "577f17ca",
   "metadata": {},
   "outputs": [
    {
     "data": {
      "text/plain": [
       "array([[0],\n",
       "       [2],\n",
       "       [4],\n",
       "       [6],\n",
       "       [8]])"
      ]
     },
     "execution_count": 114,
     "metadata": {},
     "output_type": "execute_result"
    }
   ],
   "source": [
    "X_linear = X.values.reshape(-1, 1)\n",
    "X_linear[:5]"
   ]
  },
  {
   "cell_type": "code",
   "execution_count": 115,
   "id": "9c32cba4",
   "metadata": {},
   "outputs": [
    {
     "data": {
      "text/plain": [
       "array([[1., 0.],\n",
       "       [1., 2.],\n",
       "       [1., 4.],\n",
       "       [1., 6.],\n",
       "       [1., 8.]])"
      ]
     },
     "execution_count": 115,
     "metadata": {},
     "output_type": "execute_result"
    }
   ],
   "source": [
    "X_linear = np.c_[np.ones(X_linear.shape[0]), X_linear]  # Thêm cột bias\n",
    "X_linear[:5]"
   ]
  },
  {
   "cell_type": "code",
   "execution_count": 116,
   "id": "593ad74a",
   "metadata": {},
   "outputs": [
    {
     "name": "stdout",
     "output_type": "stream",
     "text": [
      "Epoch 0/50, Loss: 5982.9501\n",
      "Epoch 1/50, Loss: 2938.5812\n",
      "Epoch 2/50, Loss: 1492.1903\n",
      "Epoch 3/50, Loss: 804.9955\n",
      "Epoch 4/50, Loss: 478.4933\n",
      "Epoch 5/50, Loss: 323.3555\n",
      "Epoch 6/50, Loss: 249.6325\n",
      "Epoch 7/50, Loss: 214.5896\n",
      "Epoch 8/50, Loss: 197.9236\n",
      "Epoch 9/50, Loss: 189.9883\n",
      "Epoch 10/50, Loss: 186.2010\n",
      "Epoch 11/50, Loss: 184.3845\n",
      "Epoch 12/50, Loss: 183.5042\n",
      "Epoch 13/50, Loss: 183.0688\n",
      "Epoch 14/50, Loss: 182.8447\n",
      "Epoch 15/50, Loss: 182.7211\n",
      "Epoch 16/50, Loss: 182.6452\n",
      "Epoch 17/50, Loss: 182.5919\n",
      "Epoch 18/50, Loss: 182.5494\n",
      "Epoch 19/50, Loss: 182.5121\n",
      "Epoch 20/50, Loss: 182.4772\n",
      "Epoch 21/50, Loss: 182.4435\n",
      "Epoch 22/50, Loss: 182.4104\n",
      "Epoch 23/50, Loss: 182.3775\n",
      "Epoch 24/50, Loss: 182.3448\n",
      "Epoch 25/50, Loss: 182.3122\n",
      "Epoch 26/50, Loss: 182.2796\n",
      "Epoch 27/50, Loss: 182.2470\n",
      "Epoch 28/50, Loss: 182.2145\n",
      "Epoch 29/50, Loss: 182.1819\n",
      "Epoch 30/50, Loss: 182.1494\n",
      "Epoch 31/50, Loss: 182.1170\n",
      "Epoch 32/50, Loss: 182.0845\n",
      "Epoch 33/50, Loss: 182.0520\n",
      "Epoch 34/50, Loss: 182.0196\n",
      "Epoch 35/50, Loss: 181.9872\n",
      "Epoch 36/50, Loss: 181.9548\n",
      "Epoch 37/50, Loss: 181.9224\n",
      "Epoch 38/50, Loss: 181.8901\n",
      "Epoch 39/50, Loss: 181.8577\n",
      "Epoch 40/50, Loss: 181.8254\n",
      "Epoch 41/50, Loss: 181.7931\n",
      "Epoch 42/50, Loss: 181.7608\n",
      "Epoch 43/50, Loss: 181.7285\n",
      "Epoch 44/50, Loss: 181.6963\n",
      "Epoch 45/50, Loss: 181.6641\n",
      "Epoch 46/50, Loss: 181.6318\n",
      "Epoch 47/50, Loss: 181.5996\n",
      "Epoch 48/50, Loss: 181.5675\n",
      "Epoch 49/50, Loss: 181.5353\n"
     ]
    },
    {
     "data": {
      "text/plain": [
       "{'weight': array([0.53031355, 4.5299319 ]),\n",
       " 'loss': np.float64(181.53528951737798)}"
      ]
     },
     "execution_count": 116,
     "metadata": {},
     "output_type": "execute_result"
    }
   ],
   "source": [
    "linear_model = LinearRegression(\n",
    "    X_linear,\n",
    "    y,\n",
    "    learning_rate=0.001,\n",
    "    epochs=50,\n",
    ")\n",
    "linear_model.fit()"
   ]
  },
  {
   "cell_type": "code",
   "execution_count": 117,
   "id": "2d47d341",
   "metadata": {},
   "outputs": [
    {
     "name": "stdout",
     "output_type": "stream",
     "text": [
      "R^2 score: 0.8959\n"
     ]
    }
   ],
   "source": [
    "Y_pred = linear_model.predict(X_linear)\n",
    "linear_score = r2score(Y_pred, y)\n",
    "print(f\"R^2 score: {linear_score:.4f}\")"
   ]
  },
  {
   "cell_type": "code",
   "execution_count": 118,
   "id": "9b81a5ea",
   "metadata": {},
   "outputs": [],
   "source": [
    "def create_polynomial_features(X, degree=2):\n",
    "    \"\"\"\n",
    "    Create polynomial features for the input data\n",
    "    \"\"\"\n",
    "    X_new = X\n",
    "    for d in range(2, degree + 1):\n",
    "        X_new = np.c_[X_new, X**d]\n",
    "    return X_new"
   ]
  },
  {
   "cell_type": "code",
   "execution_count": 119,
   "id": "d221ee35",
   "metadata": {},
   "outputs": [
    {
     "data": {
      "text/plain": [
       "array([[ 0,  0],\n",
       "       [ 2,  4],\n",
       "       [ 4, 16],\n",
       "       [ 6, 36],\n",
       "       [ 8, 64]])"
      ]
     },
     "execution_count": 119,
     "metadata": {},
     "output_type": "execute_result"
    }
   ],
   "source": [
    "X_poly = create_polynomial_features(X, degree=2)\n",
    "X_poly[:5]"
   ]
  },
  {
   "cell_type": "code",
   "execution_count": 120,
   "id": "3f56b6ba",
   "metadata": {},
   "outputs": [
    {
     "data": {
      "text/plain": [
       "array([[ 1.,  0.,  0.],\n",
       "       [ 1.,  2.,  4.],\n",
       "       [ 1.,  4., 16.],\n",
       "       [ 1.,  6., 36.],\n",
       "       [ 1.,  8., 64.]])"
      ]
     },
     "execution_count": 120,
     "metadata": {},
     "output_type": "execute_result"
    }
   ],
   "source": [
    "X_poly = np.c_[np.ones(X_poly.shape[0]), X_poly]  # Thêm cột bias\n",
    "X_poly[:5]"
   ]
  },
  {
   "cell_type": "code",
   "execution_count": 121,
   "id": "83743428",
   "metadata": {},
   "outputs": [
    {
     "name": "stdout",
     "output_type": "stream",
     "text": [
      "Epoch 0/50, Loss: 4416.0102\n",
      "Epoch 1/50, Loss: 2745.7921\n",
      "Epoch 2/50, Loss: 1713.8455\n",
      "Epoch 3/50, Loss: 1076.2536\n",
      "Epoch 4/50, Loss: 682.3128\n",
      "Epoch 5/50, Loss: 438.9113\n",
      "Epoch 6/50, Loss: 288.5203\n",
      "Epoch 7/50, Loss: 195.5955\n",
      "Epoch 8/50, Loss: 138.1761\n",
      "Epoch 9/50, Loss: 102.6937\n",
      "Epoch 10/50, Loss: 80.7650\n",
      "Epoch 11/50, Loss: 67.2105\n",
      "Epoch 12/50, Loss: 58.8298\n",
      "Epoch 13/50, Loss: 53.6459\n",
      "Epoch 14/50, Loss: 50.4371\n",
      "Epoch 15/50, Loss: 48.4485\n",
      "Epoch 16/50, Loss: 47.2139\n",
      "Epoch 17/50, Loss: 46.4452\n",
      "Epoch 18/50, Loss: 45.9643\n",
      "Epoch 19/50, Loss: 45.6612\n",
      "Epoch 20/50, Loss: 45.4679\n",
      "Epoch 21/50, Loss: 45.3426\n",
      "Epoch 22/50, Loss: 45.2592\n",
      "Epoch 23/50, Loss: 45.2018\n",
      "Epoch 24/50, Loss: 45.1603\n",
      "Epoch 25/50, Loss: 45.1288\n",
      "Epoch 26/50, Loss: 45.1033\n",
      "Epoch 27/50, Loss: 45.0817\n",
      "Epoch 28/50, Loss: 45.0624\n",
      "Epoch 29/50, Loss: 45.0445\n",
      "Epoch 30/50, Loss: 45.0275\n",
      "Epoch 31/50, Loss: 45.0111\n",
      "Epoch 32/50, Loss: 44.9950\n",
      "Epoch 33/50, Loss: 44.9792\n",
      "Epoch 34/50, Loss: 44.9635\n",
      "Epoch 35/50, Loss: 44.9478\n",
      "Epoch 36/50, Loss: 44.9323\n",
      "Epoch 37/50, Loss: 44.9167\n",
      "Epoch 38/50, Loss: 44.9012\n",
      "Epoch 39/50, Loss: 44.8857\n",
      "Epoch 40/50, Loss: 44.8702\n",
      "Epoch 41/50, Loss: 44.8548\n",
      "Epoch 42/50, Loss: 44.8393\n",
      "Epoch 43/50, Loss: 44.8239\n",
      "Epoch 44/50, Loss: 44.8084\n",
      "Epoch 45/50, Loss: 44.7930\n",
      "Epoch 46/50, Loss: 44.7775\n",
      "Epoch 47/50, Loss: 44.7621\n",
      "Epoch 48/50, Loss: 44.7467\n",
      "Epoch 49/50, Loss: 44.7313\n"
     ]
    },
    {
     "data": {
      "text/plain": [
       "{'weight': array([0.30878137, 0.20817533, 0.18276029]),\n",
       " 'loss': np.float64(44.731279572107326)}"
      ]
     },
     "execution_count": 121,
     "metadata": {},
     "output_type": "execute_result"
    }
   ],
   "source": [
    "poly_model = LinearRegression(\n",
    "    X_poly,\n",
    "    y,\n",
    "    learning_rate=0.00001,\n",
    "    epochs=50,\n",
    ")\n",
    "poly_model.fit()"
   ]
  },
  {
   "cell_type": "code",
   "execution_count": 122,
   "id": "4f7625f7",
   "metadata": {},
   "outputs": [
    {
     "name": "stdout",
     "output_type": "stream",
     "text": [
      "linear R^2 score: 0.8959\n",
      "polynomial R^2 score: 0.9848\n",
      "linear last loss: 181.5353\n",
      "polynomial last loss: 44.7313\n"
     ]
    }
   ],
   "source": [
    "y_pred_poly = poly_model.predict(X_poly)\n",
    "poly_score = r2score(y_pred_poly, y)\n",
    "print(f\"linear R^2 score: {linear_score:.4f}\")\n",
    "print(f\"polynomial R^2 score: {poly_score:.4f}\")\n",
    "print(f\"linear last loss: {linear_model.loss[-1]:.4f}\")\n",
    "print(f\"polynomial last loss: {poly_model.loss[-1]:.4f}\")"
   ]
  },
  {
   "cell_type": "code",
   "execution_count": 123,
   "id": "97d05cdd",
   "metadata": {},
   "outputs": [
    {
     "data": {
      "image/png": "[encoded data removed]",
      "text/plain": [
       "<Figure size 640x480 with 1 Axes>"
      ]
     },
     "metadata": {},
     "output_type": "display_data"
    }
   ],
   "source": [
    "plt.plot(\n",
    "    X,\n",
    "    y,\n",
    "    \"yo\",\n",
    "    X,\n",
    "    linear_model.predict(X_linear),\n",
    "    \"r-\",\n",
    "    X,\n",
    "    poly_model.predict(X_poly),\n",
    "    \"b-\",\n",
    ")\n",
    "plt.xlabel(\"Years of Experience\")\n",
    "plt.ylabel(\"Salary\")\n",
    "plt.title(\"Linear Regression\")\n",
    "plt.show()"
   ]
  }
 ],
 "metadata": {
  "kernelspec": {
   "display_name": ".venv",
   "language": "python",
   "name": "python3"
  },
  "language_info": {
   "codemirror_mode": {
    "name": "ipython",
    "version": 3
   },
   "file_extension": ".py",
   "mimetype": "text/x-python",
   "name": "python",
   "nbconvert_exporter": "python",
   "pygments_lexer": "ipython3",
   "version": "3.10.6"
  }
 },
 "nbformat": 4,
 "nbformat_minor": 5
}
