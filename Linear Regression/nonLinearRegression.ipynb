{
 "cells": [
  {
   "cell_type": "code",
   "execution_count": null,
   "id": "0",
   "metadata": {},
   "outputs": [],
   "source": [
    "import numpy as np\n",
    "import pandas as pd\n",
    "import matplotlib.pyplot as plt\n",
    "from sklearn.model_selection import train_test_split"
   ]
  },
  {
   "cell_type": "code",
   "execution_count": null,
   "id": "1",
   "metadata": {},
   "outputs": [],
   "source": [
    "df = pd.read_csv(\"./salary.csv\")\n",
    "df.head(), df.shape"
   ]
  },
  {
   "cell_type": "code",
   "execution_count": null,
   "id": "2",
   "metadata": {},
   "outputs": [],
   "source": [
    "X = df.YearsExperience\n",
    "y = df.Salary\n",
    "X.shape"
   ]
  },
  {
   "cell_type": "code",
   "execution_count": null,
   "id": "3",
   "metadata": {},
   "outputs": [],
   "source": [
    "plt.scatter(df[\"YearsExperience\"], df[\"Salary\"])\n",
    "plt.xlabel(\"Years of Experience\")"
   ]
  },
  {
   "cell_type": "code",
   "execution_count": null,
   "id": "4",
   "metadata": {},
   "outputs": [],
   "source": [
    "def r2score(y_true, y_pred):\n",
    "    \"\"\"\n",
    "    Calculate the R^2 score\n",
    "    \"\"\"\n",
    "    ss_res = np.sum((y_true - y_pred) ** 2)\n",
    "    ss_tot = np.sum((y_true - np.mean(y_true)) ** 2)\n",
    "    return 1 - (ss_res / ss_tot)"
   ]
  },
  {
   "cell_type": "code",
   "execution_count": null,
   "id": "5",
   "metadata": {},
   "outputs": [],
   "source": [
    "class LinearRegression:\n",
    "    def __init__(self, X, y, learning_rate=0.01, epochs=1000):\n",
    "        self.X = X\n",
    "        self.y = y\n",
    "        self.learning_rate = learning_rate\n",
    "        self.epochs = epochs\n",
    "        self.num_samples = X.shape[0]\n",
    "\n",
    "        self.theta = np.random.rand(X.shape[1])\n",
    "        self.loss = []\n",
    "\n",
    "    def compute_loss(self, y_pred, y):\n",
    "        return np.mean((y_pred - y) ** 2)\n",
    "\n",
    "    def predict(self, X):\n",
    "        return np.dot(X, self.theta)\n",
    "\n",
    "    def fit(self):\n",
    "        for epoch in range(self.epochs):\n",
    "            y_pred = self.predict(self.X)\n",
    "            loss = self.compute_loss(y_pred, self.y)\n",
    "            self.loss.append(loss)\n",
    "            gradient = self.X.T.dot(y_pred - self.y) / self.num_samples\n",
    "            self.theta -= self.learning_rate * gradient\n",
    "            print(f\"Epoch {epoch}/{self.epochs}, Loss: {loss:.4f}\")\n",
    "\n",
    "        return {\"weight\": self.theta, \"loss\": self.loss[-1]}"
   ]
  },
  {
   "cell_type": "code",
   "execution_count": null,
   "id": "6",
   "metadata": {},
   "outputs": [],
   "source": [
    "X_linear = X.values.reshape(-1, 1)\n",
    "X_linear[:5]"
   ]
  },
  {
   "cell_type": "code",
   "execution_count": null,
   "id": "7",
   "metadata": {},
   "outputs": [],
   "source": [
    "X_linear = np.c_[np.ones(X_linear.shape[0]), X_linear]  # Thêm cột bias\n",
    "X_linear[:5]"
   ]
  },
  {
   "cell_type": "code",
   "execution_count": null,
   "id": "8",
   "metadata": {},
   "outputs": [],
   "source": [
    "linear_model = LinearRegression(\n",
    "    X_linear,\n",
    "    y,\n",
    "    learning_rate=0.001,\n",
    "    epochs=50,\n",
    ")\n",
    "linear_model.fit()"
   ]
  },
  {
   "cell_type": "code",
   "execution_count": null,
   "id": "9",
   "metadata": {},
   "outputs": [],
   "source": [
    "Y_pred = linear_model.predict(X_linear)\n",
    "linear_score = r2score(Y_pred, y)\n",
    "print(f\"R^2 score: {linear_score:.4f}\")"
   ]
  },
  {
   "cell_type": "code",
   "execution_count": null,
   "id": "10",
   "metadata": {},
   "outputs": [],
   "source": [
    "def create_polynomial_features(X, degree=2):\n",
    "    \"\"\"\n",
    "    Create polynomial features for the input data\n",
    "    \"\"\"\n",
    "    X_new = X\n",
    "    for d in range(2, degree + 1):\n",
    "        X_new = np.c_[X_new, X**d]\n",
    "    return X_new"
   ]
  },
  {
   "cell_type": "code",
   "execution_count": null,
   "id": "11",
   "metadata": {},
   "outputs": [],
   "source": [
    "X_poly = create_polynomial_features(X, degree=2)\n",
    "X_poly[:5]"
   ]
  },
  {
   "cell_type": "code",
   "execution_count": null,
   "id": "12",
   "metadata": {},
   "outputs": [],
   "source": [
    "X_poly = np.c_[np.ones(X_poly.shape[0]), X_poly]  # Thêm cột bias\n",
    "X_poly[:5]"
   ]
  },
  {
   "cell_type": "code",
   "execution_count": null,
   "id": "13",
   "metadata": {},
   "outputs": [],
   "source": [
    "poly_model = LinearRegression(\n",
    "    X_poly,\n",
    "    y,\n",
    "    learning_rate=0.00001,\n",
    "    epochs=50,\n",
    ")\n",
    "poly_model.fit()"
   ]
  },
  {
   "cell_type": "code",
   "execution_count": null,
   "id": "14",
   "metadata": {},
   "outputs": [],
   "source": [
    "y_pred_poly = poly_model.predict(X_poly)\n",
    "poly_score = r2score(y_pred_poly, y)\n",
    "print(f\"linear R^2 score: {linear_score:.4f}\")\n",
    "print(f\"polynomial R^2 score: {poly_score:.4f}\")\n",
    "print(f\"linear last loss: {linear_model.loss[-1]:.4f}\")\n",
    "print(f\"polynomial last loss: {poly_model.loss[-1]:.4f}\")"
   ]
  },
  {
   "cell_type": "code",
   "execution_count": null,
   "id": "15",
   "metadata": {},
   "outputs": [],
   "source": [
    "plt.plot(\n",
    "    X,\n",
    "    y,\n",
    "    \"yo\",\n",
    "    X,\n",
    "    linear_model.predict(X_linear),\n",
    "    \"r-\",\n",
    "    X,\n",
    "    poly_model.predict(X_poly),\n",
    "    \"b-\",\n",
    ")\n",
    "plt.xlabel(\"Years of Experience\")\n",
    "plt.ylabel(\"Salary\")\n",
    "plt.title(\"Linear Regression\")\n",
    "plt.show()"
   ]
  }
 ],
 "metadata": {
  "kernelspec": {
   "display_name": ".venv",
   "language": "python",
   "name": "python3"
  },
  "language_info": {
   "codemirror_mode": {
    "name": "ipython",
    "version": 3
   },
   "file_extension": ".py",
   "mimetype": "text/x-python",
   "name": "python",
   "nbconvert_exporter": "python",
   "pygments_lexer": "ipython3",
   "version": "3.10.6"
  }
 },
 "nbformat": 4,
 "nbformat_minor": 5
}
