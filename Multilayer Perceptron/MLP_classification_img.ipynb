{
 "cells": [
  {
   "cell_type": "code",
   "execution_count": null,
   "id": "0",
   "metadata": {
    "colab": {
     "base_uri": "https://localhost:8080/"
    },
    "id": "ihnLKPwBV69U",
    "outputId": "dcb668df-2c51-47e8-f9d5-4512ea98f9ea"
   },
   "outputs": [],
   "source": [
    "# !gdown --id 1GaTMURqIQTjtalbNVAyVgPIEis21A0r8"
   ]
  },
  {
   "cell_type": "code",
   "execution_count": null,
   "id": "1",
   "metadata": {
    "id": "lyxuULvHWKyg"
   },
   "outputs": [],
   "source": [
    "# !unzip -q './FER-2013.zip'"
   ]
  },
  {
   "cell_type": "code",
   "execution_count": null,
   "id": "2",
   "metadata": {
    "id": "fd8c5f93"
   },
   "outputs": [],
   "source": [
    "import cv2\n",
    "import os\n",
    "import numpy as np\n",
    "import pandas as pd\n",
    "import torch\n",
    "from torch.utils.data import Dataset, DataLoader\n",
    "from torchvision.transforms import Resize\n",
    "from torchvision.io import read_image\n",
    "\n",
    "import matplotlib.pyplot as plt\n",
    "import torch.nn as nn\n",
    "import torch.nn.functional as F\n",
    "from sklearn.model_selection import train_test_split\n",
    "from sklearn.preprocessing import StandardScaler"
   ]
  },
  {
   "cell_type": "code",
   "execution_count": null,
   "id": "3",
   "metadata": {
    "id": "1463ed79"
   },
   "outputs": [],
   "source": [
    "device = torch.device(\"cuda:0\" if torch.cuda.is_available() else \"cpu\")\n",
    "random_state = 59\n",
    "np.random.seed(random_state)\n",
    "torch.manual_seed(random_state)\n",
    "if torch.cuda.is_available():\n",
    "    torch.cuda.manual_seed(random_state)"
   ]
  },
  {
   "cell_type": "code",
   "execution_count": null,
   "id": "4",
   "metadata": {
    "id": "494fd729"
   },
   "outputs": [],
   "source": [
    "# extrac .zip\n",
    "# def unzip_file(zip_file_path, extract_to):\n",
    "#     import zipfile\n",
    "#     with zipfile.ZipFile(zip_file_path, 'r') as zip_ref:\n",
    "#         zip_ref.extractall(extract_to)\n",
    "\n",
    "# unzip_file('FER-2013.zip', 'data')"
   ]
  },
  {
   "cell_type": "code",
   "execution_count": null,
   "id": "5",
   "metadata": {
    "id": "060e2bdb"
   },
   "outputs": [],
   "source": [
    "train_dir = \"./train\"\n",
    "test_dir = \"./test\"\n",
    "\n",
    "classes = os.listdir(train_dir)\n",
    "\n",
    "label2idx = {cls: idx for idx, cls in enumerate(classes)}\n",
    "idx2label = {idx: cls for cls, idx in label2idx.items()}"
   ]
  },
  {
   "cell_type": "code",
   "execution_count": null,
   "id": "6",
   "metadata": {
    "colab": {
     "base_uri": "https://localhost:8080/"
    },
    "id": "7dbfb4cd",
    "outputId": "ec6a1a4f-da63-4f65-c2db-17ed653388a7"
   },
   "outputs": [],
   "source": [
    "test_img_path = \"./data/train/angry/Training_10118481.jpg\"\n",
    "img = cv2.imread(test_img_path)\n",
    "img_height, img_width = (128, 128)\n",
    "print(f\"Image height: {img_height}\")\n",
    "print(f\"Image width: {img_width}\")"
   ]
  },
  {
   "cell_type": "code",
   "execution_count": null,
   "id": "7",
   "metadata": {
    "id": "45571a5f"
   },
   "outputs": [],
   "source": [
    "class ImageDataset(Dataset):\n",
    "    def __init__(self, img_dir, norm, label2idx, split=\"train\", train_ratio=0.8):\n",
    "        self.resize = Resize((img_height, img_width))\n",
    "        self.norm = norm\n",
    "        self.split = split\n",
    "        self.train_ratio = train_ratio\n",
    "        self.img_dir = img_dir\n",
    "        self.label2idx = label2idx\n",
    "        self.img_paths, self.img_labels = self.read_img_files()\n",
    "\n",
    "        if split in [\"train\", \"val\"] and \"train\" in img_dir.lower():\n",
    "            train_data, val_data = train_test_split(\n",
    "                list(zip(self.img_paths, self.img_labels)),\n",
    "                train_size=train_ratio,\n",
    "                random_state=random_state,\n",
    "                stratify=self.img_labels,\n",
    "            )\n",
    "\n",
    "            if split == \"train\":\n",
    "                self.img_paths, self.img_labels = zip(*train_data)\n",
    "            elif split == \"val\":\n",
    "                self.img_paths, self.img_labels = zip(*val_data)\n",
    "\n",
    "    def read_img_files(self):\n",
    "        img_paths = []\n",
    "        img_labels = []\n",
    "        for cls in self.label2idx.keys():\n",
    "            for img in os.listdir(os.path.join(self.img_dir, cls)):\n",
    "                img_paths.append(os.path.join(self.img_dir, cls, img))\n",
    "                img_labels.append(cls)\n",
    "\n",
    "        return img_paths, img_labels\n",
    "\n",
    "    def __len__(self):\n",
    "        return len(self.img_paths)\n",
    "\n",
    "    def __getitem__(self, idx):\n",
    "        img_path = self.img_paths[idx]\n",
    "        cls = self.img_labels[idx]\n",
    "        img = self.resize(read_image(img_path))\n",
    "        img = img.type(torch.float32)\n",
    "        label = self.label2idx[cls]\n",
    "        if self.norm:\n",
    "            img = (img / 127.5) - 1\n",
    "        return img, label"
   ]
  },
  {
   "cell_type": "code",
   "execution_count": null,
   "id": "8",
   "metadata": {
    "id": "cc6b7700"
   },
   "outputs": [],
   "source": [
    "batch_size = 256\n",
    "\n",
    "train_dataset = ImageDataset(train_dir, True, label2idx, split=\"train\")\n",
    "train_loader = DataLoader(train_dataset, batch_size=batch_size, shuffle=True)\n",
    "\n",
    "val_dataset = ImageDataset(train_dir, True, label2idx, split=\"val\")\n",
    "val_loader = DataLoader(val_dataset, batch_size=batch_size, shuffle=False)\n",
    "\n",
    "test_dataset = ImageDataset(test_dir, True, label2idx, split=\"test\")\n",
    "test_loader = DataLoader(test_dataset, batch_size=batch_size, shuffle=False)"
   ]
  },
  {
   "cell_type": "code",
   "execution_count": null,
   "id": "9",
   "metadata": {
    "colab": {
     "base_uri": "https://localhost:8080/",
     "height": 829
    },
    "id": "03945f84",
    "outputId": "748ce1e9-9ab9-46a2-f051-b207e3b1d960"
   },
   "outputs": [],
   "source": [
    "image_batch, label_batch = next(iter(train_loader))\n",
    "\n",
    "plt.figure(figsize=(10, 10))\n",
    "for i in range(9):\n",
    "    ax = plt.subplot(3, 3, i + 1)\n",
    "    minv = image_batch[i].numpy().min()\n",
    "    maxv = image_batch[i].numpy().max()\n",
    "    plt.imshow(np.squeeze(image_batch[i].numpy()), vmin=minv, vmax=maxv, cmap=\"gray\")\n",
    "    label = label_batch[i]\n",
    "    plt.title(idx2label[label.item()])\n",
    "    plt.axis(\"off\")"
   ]
  },
  {
   "cell_type": "code",
   "execution_count": null,
   "id": "10",
   "metadata": {
    "id": "1e2ae07b"
   },
   "outputs": [],
   "source": [
    "class MLP(nn.Module):\n",
    "    def __init__(self, input_dims, hidden_dims, output_dims):\n",
    "        super(MLP, self).__init__()\n",
    "        self.linear1 = nn.Linear(input_dims, hidden_dims * 4)\n",
    "        self.linear2 = nn.Linear(hidden_dims * 4, hidden_dims * 2)\n",
    "        self.linear3 = nn.Linear(hidden_dims * 2, hidden_dims)\n",
    "        self.output = nn.Linear(hidden_dims, output_dims)\n",
    "\n",
    "    def forward(self, x):\n",
    "        x = nn.Flatten()(x)\n",
    "        x = self.linear1(x)\n",
    "        x = F.relu(x)\n",
    "        x = self.linear2(x)\n",
    "        x = F.relu(x)\n",
    "        x = self.linear3(x)\n",
    "        x = F.relu(x)\n",
    "        out = self.output(x)\n",
    "        return out.squeeze(1)\n",
    "\n",
    "\n",
    "input_dims = img_height * img_width\n",
    "output_dims = len(classes)\n",
    "hidden_dims = 64\n",
    "lr = 1e-2\n",
    "\n",
    "model = MLP(input_dims=input_dims, hidden_dims=hidden_dims, output_dims=output_dims).to(\n",
    "    device\n",
    ")\n",
    "criterion = nn.CrossEntropyLoss()\n",
    "optimizer = torch.optim.SGD(model.parameters(), lr=lr)"
   ]
  },
  {
   "cell_type": "code",
   "execution_count": null,
   "id": "11",
   "metadata": {
    "id": "384aea98"
   },
   "outputs": [],
   "source": [
    "def compute_accuracy(y_hat, y_true):\n",
    "    _, y_hat = torch.max(y_hat, dim=1)\n",
    "    correct = (y_hat == y_true).sum().item()\n",
    "    accuracy = correct / len(y_true)\n",
    "    return accuracy"
   ]
  },
  {
   "cell_type": "code",
   "execution_count": null,
   "id": "12",
   "metadata": {
    "colab": {
     "base_uri": "https://localhost:8080/"
    },
    "id": "68778f10",
    "outputId": "cf8d20fc-acea-4014-a8bc-dc39b75ff4ae"
   },
   "outputs": [],
   "source": [
    "epochs = 40\n",
    "train_losses = []\n",
    "val_losses = []\n",
    "train_accs = []\n",
    "val_accs = []\n",
    "\n",
    "for epoch in range(epochs):\n",
    "    train_loss = 0.0\n",
    "    train_target = []\n",
    "    train_predict = []\n",
    "    model.train()\n",
    "    for X_samples, y_samples in train_loader:\n",
    "        X_samples = X_samples.to(device)\n",
    "        y_samples = y_samples.to(device)\n",
    "        optimizer.zero_grad()\n",
    "        outputs = model(X_samples)\n",
    "        loss = criterion(outputs, y_samples)\n",
    "        loss.backward()\n",
    "        optimizer.step()\n",
    "        train_loss += loss.item()\n",
    "\n",
    "        train_predict.append(outputs.detach().cpu())\n",
    "        train_target.append(y_samples.cpu())\n",
    "\n",
    "    train_loss /= len(train_loader)\n",
    "    train_losses.append(train_loss)\n",
    "\n",
    "    train_predict = torch.cat(train_predict)\n",
    "    train_target = torch.cat(train_target)\n",
    "    train_acc = compute_accuracy(train_predict, train_target)\n",
    "    train_accs.append(train_acc)\n",
    "\n",
    "    val_loss = 0.0\n",
    "    val_target = []\n",
    "    val_predict = []\n",
    "    model.eval()\n",
    "    with torch.no_grad():\n",
    "        for X_samples, y_samples in val_loader:\n",
    "            X_samples = X_samples.to(device)\n",
    "            y_samples = y_samples.to(device)\n",
    "            outputs = model(X_samples)\n",
    "            val_loss += criterion(outputs, y_samples).item()\n",
    "\n",
    "            val_predict.append(outputs.cpu())\n",
    "            val_target.append(y_samples.cpu())\n",
    "\n",
    "    val_loss /= len(val_loader)\n",
    "    val_losses.append(val_loss)\n",
    "\n",
    "    val_predict = torch.cat(val_predict)\n",
    "    val_target = torch.cat(val_target)\n",
    "    val_acc = compute_accuracy(val_predict, val_target)\n",
    "    val_accs.append(val_acc)\n",
    "\n",
    "    print(\n",
    "        f\"EPOCH {epoch + 1}:\\tTraining loss: {train_loss:.3f}\\tValidation loss: {val_loss:.3f}\"\n",
    "    )"
   ]
  },
  {
   "cell_type": "code",
   "execution_count": null,
   "id": "13",
   "metadata": {
    "colab": {
     "base_uri": "https://localhost:8080/",
     "height": 872
    },
    "id": "7e6d5ab8",
    "outputId": "63d7c23d-623f-4fc5-ff82-f2e7ec785988"
   },
   "outputs": [],
   "source": [
    "fig, ax = plt.subplots(2, 2, figsize=(12, 10))\n",
    "ax[0, 0].plot(train_losses, color=\"green\")\n",
    "ax[0, 0].set(xlabel=\"Epoch\", ylabel=\"Loss\")\n",
    "ax[0, 0].set_title(\"Training Loss\")\n",
    "\n",
    "ax[0, 1].plot(val_losses, color=\"orange\")\n",
    "ax[0, 1].set(xlabel=\"Epoch\", ylabel=\"Loss\")\n",
    "ax[0, 1].set_title(\"Validation Loss\")\n",
    "\n",
    "ax[1, 0].plot(train_accs, color=\"green\")\n",
    "ax[1, 0].set(xlabel=\"Epoch\", ylabel=\"Accuracy\")\n",
    "ax[1, 0].set_title(\"Training Accuracy\")\n",
    "\n",
    "ax[1, 1].plot(val_accs, color=\"orange\")\n",
    "ax[1, 1].set(xlabel=\"Epoch\", ylabel=\"Accuracy\")\n",
    "ax[1, 1].set_title(\"Validation Accuracy\")\n",
    "\n",
    "plt.show()"
   ]
  },
  {
   "cell_type": "code",
   "execution_count": null,
   "id": "14",
   "metadata": {
    "colab": {
     "base_uri": "https://localhost:8080/"
    },
    "id": "4489311c",
    "outputId": "6ae721f1-57fd-49eb-91a3-0973378e9c87"
   },
   "outputs": [],
   "source": [
    "val_target = []\n",
    "val_predict = []\n",
    "model.eval()\n",
    "with torch.no_grad():\n",
    "    for X_samples, y_samples in val_loader:\n",
    "        X_samples = X_samples.to(device)\n",
    "        y_samples = y_samples.to(device)\n",
    "        outputs = model(X_samples)\n",
    "\n",
    "        val_predict.append(outputs.cpu())\n",
    "        val_target.append(y_samples.cpu())\n",
    "\n",
    "    val_predict = torch.cat(val_predict)\n",
    "    val_target = torch.cat(val_target)\n",
    "    val_acc = compute_accuracy(val_predict, val_target)\n",
    "\n",
    "    print(\"Evaluation on val set:\")\n",
    "    print(f\"Accuracy: {val_acc}\")"
   ]
  },
  {
   "cell_type": "code",
   "execution_count": null,
   "id": "15",
   "metadata": {
    "colab": {
     "base_uri": "https://localhost:8080/"
    },
    "id": "12491b67",
    "outputId": "f3e12518-938b-4194-81de-404dd71c64bf"
   },
   "outputs": [],
   "source": [
    "test_target = []\n",
    "test_predict = []\n",
    "model.eval()\n",
    "with torch.no_grad():\n",
    "    for X_samples, y_samples in test_loader:\n",
    "        X_samples = X_samples.to(device)\n",
    "        y_samples = y_samples.to(device)\n",
    "        outputs = model(X_samples)\n",
    "\n",
    "        test_predict.append(outputs.cpu())\n",
    "        test_target.append(y_samples.cpu())\n",
    "\n",
    "    test_predict = torch.cat(test_predict)\n",
    "    test_target = torch.cat(test_target)\n",
    "    val_acc = compute_accuracy(test_predict, test_target)\n",
    "\n",
    "    print(\"Evaluation on test set:\")\n",
    "    print(f\"Accuracy: {val_acc}\")"
   ]
  }
 ],
 "metadata": {
  "accelerator": "GPU",
  "colab": {
   "gpuType": "T4",
   "provenance": []
  },
  "kernelspec": {
   "display_name": ".venv",
   "language": "python",
   "name": "python3"
  },
  "language_info": {
   "codemirror_mode": {
    "name": "ipython",
    "version": 3
   },
   "file_extension": ".py",
   "mimetype": "text/x-python",
   "name": "python",
   "nbconvert_exporter": "python",
   "pygments_lexer": "ipython3",
   "version": "3.10.6"
  }
 },
 "nbformat": 4,
 "nbformat_minor": 5
}
