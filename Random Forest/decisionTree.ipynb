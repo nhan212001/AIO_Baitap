{
 "cells": [
  {
   "cell_type": "code",
   "execution_count": null,
   "id": "9c423c99",
   "metadata": {},
   "outputs": [],
   "source": [
    "import numpy as np\n",
    "from sklearn.datasets import load_iris\n",
    "from collections import Counter"
   ]
  },
  {
   "cell_type": "code",
   "execution_count": null,
   "id": "e455acc6",
   "metadata": {},
   "outputs": [],
   "source": [
    "# Tải dữ liệu Iris\n",
    "iris = load_iris()\n",
    "X, y = iris.data, iris.target\n",
    "feature_names = iris.feature_names"
   ]
  },
  {
   "cell_type": "code",
   "execution_count": null,
   "id": "e5043d2a",
   "metadata": {},
   "outputs": [],
   "source": [
    "# Hàm tính entropy\n",
    "def entropy(y):\n",
    "    counts = np.bincount(y)  # Đếm số lượng mỗi label\n",
    "    probabilities = counts / len(y)  # Tính xác suất của mỗi label\n",
    "    return -np.sum([p * np.log2(p) for p in probabilities if p > 0])\n",
    "\n",
    "\n",
    "# Hàm chia dữ liệu theo điều kiện\n",
    "def split_dataset(X, y, feature_index, threshold):\n",
    "    # Kiểm tra từng item trong mảng có thỏa điền kiện, trả về mảng boolean\n",
    "    left_idx = X[:, feature_index] <= threshold\n",
    "    right_idx = X[:, feature_index] > threshold\n",
    "    return X[left_idx], y[left_idx], X[right_idx], y[right_idx]\n",
    "\n",
    "\n",
    "# Tìm feature và ngưỡng tốt nhất\n",
    "def best_split(X, y):\n",
    "    best_gain = 0\n",
    "    best_feature = None\n",
    "    best_threshold = None\n",
    "    current_entropy = entropy(y)\n",
    "\n",
    "    n_features = X.shape[1]\n",
    "    for feature_index in range(n_features):\n",
    "        thresholds = np.unique(X[:, feature_index])\n",
    "        for threshold in thresholds:\n",
    "            X_left, y_left, X_right, y_right = split_dataset(\n",
    "                X, y, feature_index, threshold\n",
    "            )\n",
    "            if len(y_left) == 0 or len(y_right) == 0:\n",
    "                continue\n",
    "            p_left = len(y_left) / len(y)\n",
    "            p_right = 1 - p_left\n",
    "            gain = current_entropy - (\n",
    "                p_left * entropy(y_left) + p_right * entropy(y_right)\n",
    "            )\n",
    "            if gain > best_gain:\n",
    "                best_gain = gain\n",
    "                best_feature = feature_index\n",
    "                best_threshold = threshold\n",
    "    return best_feature, best_threshold"
   ]
  },
  {
   "cell_type": "code",
   "execution_count": null,
   "id": "31e2f187",
   "metadata": {},
   "outputs": [],
   "source": [
    "# Node trong cây\n",
    "class DecisionNode:\n",
    "    def __init__(self, feature=None, threshold=None, left=None, right=None, value=None):\n",
    "        self.feature = feature\n",
    "        self.threshold = threshold\n",
    "        self.left = left\n",
    "        self.right = right\n",
    "        self.value = value  # nhãn nếu là node lá\n",
    "\n",
    "\n",
    "# Xây dựng cây\n",
    "def build_tree(X, y, depth=0, max_depth=5):\n",
    "    if len(set(y)) == 1 or depth >= max_depth:\n",
    "        most_common = Counter(y).most_common(1)[0][0]\n",
    "        return DecisionNode(value=most_common)\n",
    "\n",
    "    feature, threshold = best_split(X, y)\n",
    "    if feature is None:\n",
    "        most_common = Counter(y).most_common(1)[0][0]\n",
    "        return DecisionNode(value=most_common)\n",
    "\n",
    "    X_left, y_left, X_right, y_right = split_dataset(X, y, feature, threshold)\n",
    "    left = build_tree(X_left, y_left, depth + 1, max_depth)\n",
    "    right = build_tree(X_right, y_right, depth + 1, max_depth)\n",
    "    return DecisionNode(feature, threshold, left, right)\n",
    "\n",
    "\n",
    "# Dự đoán\n",
    "def predict_one(x, node):\n",
    "    if node.value is not None:\n",
    "        return node.value\n",
    "    if x[node.feature] <= node.threshold:\n",
    "        return predict_one(x, node.left)\n",
    "    else:\n",
    "        return predict_one(x, node.right)\n",
    "\n",
    "\n",
    "def predict(X, tree):\n",
    "    return [predict_one(x, tree) for x in X]"
   ]
  },
  {
   "cell_type": "code",
   "execution_count": null,
   "id": "c1d3a069",
   "metadata": {},
   "outputs": [],
   "source": [
    "# Huấn luyện và đánh giá\n",
    "tree = build_tree(X, y, max_depth=3)\n",
    "y_pred = predict(X, tree)\n",
    "accuracy = np.mean(y_pred == y)\n",
    "print(f\"Accuracy on training set: {accuracy:.2f}\")"
   ]
  }
 ],
 "metadata": {
  "kernelspec": {
   "display_name": ".venv",
   "language": "python",
   "name": "python3"
  },
  "language_info": {
   "codemirror_mode": {
    "name": "ipython",
    "version": 3
   },
   "file_extension": ".py",
   "mimetype": "text/x-python",
   "name": "python",
   "nbconvert_exporter": "python",
   "pygments_lexer": "ipython3",
   "version": "3.10.6"
  }
 },
 "nbformat": 4,
 "nbformat_minor": 5
}
