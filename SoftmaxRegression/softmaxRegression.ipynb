{
 "cells": [
  {
   "cell_type": "code",
   "execution_count": null,
   "id": "0",
   "metadata": {},
   "outputs": [],
   "source": [
    "import pandas as pd\n",
    "import numpy as np\n",
    "import matplotlib.pyplot as plt\n",
    "\n",
    "from sklearn.model_selection import train_test_split\n",
    "from sklearn.preprocessing import StandardScaler"
   ]
  },
  {
   "cell_type": "code",
   "execution_count": null,
   "id": "1",
   "metadata": {},
   "outputs": [],
   "source": [
    "dataset_path = \"creditcard.csv\"\n",
    "df = pd.read_csv(dataset_path)\n",
    "df.info"
   ]
  },
  {
   "cell_type": "code",
   "execution_count": null,
   "id": "2",
   "metadata": {},
   "outputs": [],
   "source": [
    "df_np = df.to_numpy()\n",
    "\n",
    "X_features, y_target = df_np[:, :-1].astype(np.float64), df_np[:, -1].astype(np.int16)\n",
    "X_features = np.hstack((np.ones((X_features.shape[0], 1)), X_features))\n",
    "X_features.shape, y_target.shape"
   ]
  },
  {
   "cell_type": "code",
   "execution_count": null,
   "id": "3",
   "metadata": {},
   "outputs": [],
   "source": [
    "# Chuyển đổi y_target thành ma trận nhị phân\n",
    "n_classes = np.unique(y_target).shape[0]\n",
    "n_samples = y_target.shape[0]\n",
    "\n",
    "y_encoded = np.zeros((n_samples, n_classes))\n",
    "y_encoded[np.arange(n_samples), y_target] = 1\n",
    "y_encoded.shape"
   ]
  },
  {
   "cell_type": "code",
   "execution_count": null,
   "id": "4",
   "metadata": {},
   "outputs": [],
   "source": [
    "val_size = 0.2\n",
    "test_size = 0.125\n",
    "random_state = 2\n",
    "is_shuffle = True\n",
    "\n",
    "X_train, X_val, y_train, y_val = train_test_split(\n",
    "    X_features,\n",
    "    y_encoded,\n",
    "    test_size=val_size,\n",
    "    random_state=random_state,\n",
    "    shuffle=is_shuffle,\n",
    ")\n",
    "\n",
    "X_train, X_test, y_train, y_test = train_test_split(\n",
    "    X_train, y_train, test_size=test_size, random_state=random_state, shuffle=is_shuffle\n",
    ")\n",
    "\n",
    "X_train.shape, X_val.shape, X_test.shape,"
   ]
  },
  {
   "cell_type": "code",
   "execution_count": null,
   "id": "5",
   "metadata": {},
   "outputs": [],
   "source": [
    "normalizer = StandardScaler()\n",
    "X_train[:, 1:] = normalizer.fit_transform(X_train[:, 1:])\n",
    "X_val[:, 1:] = normalizer.transform(X_val[:, 1:])\n",
    "X_test[:, 1:] = normalizer.transform(X_test[:, 1:])"
   ]
  },
  {
   "cell_type": "code",
   "execution_count": null,
   "id": "6",
   "metadata": {},
   "outputs": [],
   "source": [
    "def softmax(z):\n",
    "    exp_z = np.exp(z)\n",
    "    # Chia giá trị exp_z cho tổng của mỗi hàng để chuẩn hóa về [0, 1]\n",
    "    # exp_z.sum(axis=1)[:, None] chuyển đổi từ (n_samples,) thành (n_samples, 1)\n",
    "    # để có thể broadcast với exp_z\n",
    "    return exp_z / exp_z.sum(axis=1)[:, None]\n",
    "\n",
    "\n",
    "def predict(X, theta):\n",
    "    return softmax(np.dot(X, theta))\n",
    "\n",
    "\n",
    "def compute_loss(y_true, y_pred):\n",
    "    return -np.mean(np.sum(y_true * np.log(y_pred), axis=1))\n",
    "\n",
    "\n",
    "def compute_gradient(X, y_true, y_pred):\n",
    "    return np.dot(X.T, (y_pred - y_true)) / X.shape[0]\n",
    "\n",
    "\n",
    "def update_theta(theta, gradient, learning_rate):\n",
    "    return theta - learning_rate * gradient\n",
    "\n",
    "\n",
    "def compute_accuracy(y_true, y_pred):\n",
    "    y_pred_labels = np.argmax(y_pred, axis=1)\n",
    "    y_true_labels = np.argmax(y_true, axis=1)\n",
    "    return np.mean(y_pred_labels == y_true_labels)"
   ]
  },
  {
   "cell_type": "code",
   "execution_count": null,
   "id": "7",
   "metadata": {},
   "outputs": [],
   "source": [
    "lr = 0.01\n",
    "epochs = 20\n",
    "batch_size = 1024\n",
    "n_features = X_train.shape[1]\n",
    "\n",
    "print(f\"Number of features: {n_features}\")\n",
    "print(f\"Number of classes: {n_classes}\")\n",
    "\n",
    "np.random.seed(random_state)\n",
    "theta = np.random.uniform(size=(n_features, n_classes))\n",
    "\n",
    "train_accs = []\n",
    "val_accs = []\n",
    "train_losses = []\n",
    "val_losses = []\n",
    "\n",
    "for epoch in range(epochs):\n",
    "    train_batch_losses = []\n",
    "    train_batch_accs = []\n",
    "    val_batch_losses = []\n",
    "    val_batch_accs = []\n",
    "    for i in range(0, X_train.shape[0], batch_size):\n",
    "        X_batch = X_train[i : i + batch_size]\n",
    "        y_batch = y_train[i : i + batch_size]\n",
    "        # train\n",
    "        y_pred = predict(X_batch, theta)\n",
    "        loss = compute_loss(y_batch, y_pred)\n",
    "        gradient = compute_gradient(X_batch, y_batch, y_pred)\n",
    "        theta = update_theta(theta, gradient, lr)\n",
    "\n",
    "        train_batch_losses.append(loss)\n",
    "        train_batch_accs.append(compute_accuracy(y_batch, y_pred))\n",
    "        # validation\n",
    "        y_val_pred = predict(X_val, theta)\n",
    "        val_loss = compute_loss(y_val, y_val_pred)\n",
    "        val_acc = compute_accuracy(y_val, y_val_pred)\n",
    "        val_batch_losses.append(val_loss)\n",
    "        val_batch_accs.append(val_acc)\n",
    "\n",
    "    train_losses.append(np.mean(train_batch_losses))\n",
    "    train_accs.append(np.mean(train_batch_accs))\n",
    "    val_losses.append(np.mean(val_batch_losses))\n",
    "    val_accs.append(np.mean(val_batch_accs))\n",
    "    print(\n",
    "        f\"Epoch {epoch + 1}/{epochs} - \"\n",
    "        f\"Train Loss: {train_losses[-1]:.4f}, \"\n",
    "        f\"Train Accuracy: {train_accs[-1]:.4f}, \"\n",
    "        f\"Validation Loss: {val_losses[-1]:.4f}, \"\n",
    "        f\"Validation Accuracy: {val_accs[-1]:.4f}\"\n",
    "    )"
   ]
  },
  {
   "cell_type": "code",
   "execution_count": null,
   "id": "8",
   "metadata": {},
   "outputs": [],
   "source": [
    "fig, ax = plt.subplots(2, 2, figsize=(12, 10))\n",
    "\n",
    "ax[0, 0].plot(train_losses)\n",
    "ax[0, 0].set(xlabel=\"Epoch\", ylabel=\"Loss\")\n",
    "ax[0, 0].set_title(\"Training Loss\")\n",
    "\n",
    "ax[0, 1].plot(val_losses, color=\"orange\")\n",
    "ax[0, 1].set(xlabel=\"Epoch\", ylabel=\"Loss\")\n",
    "ax[0, 1].set_title(\"Validation Loss\")\n",
    "\n",
    "ax[1, 0].plot(train_accs)\n",
    "ax[1, 0].set(xlabel=\"Epoch\", ylabel=\"Accuracy\")\n",
    "ax[1, 0].set_title(\"Training Accuracy\")\n",
    "\n",
    "ax[1, 1].plot(val_accs, color=\"orange\")\n",
    "ax[1, 1].set(xlabel=\"Epoch\", ylabel=\"Accuracy\")\n",
    "ax[1, 1].set_title(\"Validation Accuracy\")\n",
    "\n",
    "plt.show()"
   ]
  },
  {
   "cell_type": "code",
   "execution_count": null,
   "id": "9",
   "metadata": {},
   "outputs": [],
   "source": [
    "val_set_acc = compute_accuracy(y_val, predict(X_val, theta))\n",
    "test_set_acc = compute_accuracy(y_test, predict(X_test, theta))\n",
    "print(\"Evaluation on validation and test set:\")\n",
    "print(f\"Validation Accuracy: {val_set_acc}\")\n",
    "print(f\"Test Accuracy: {test_set_acc}\")"
   ]
  }
 ],
 "metadata": {
  "kernelspec": {
   "display_name": ".venv",
   "language": "python",
   "name": "python3"
  },
  "language_info": {
   "codemirror_mode": {
    "name": "ipython",
    "version": 3
   },
   "file_extension": ".py",
   "mimetype": "text/x-python",
   "name": "python",
   "nbconvert_exporter": "python",
   "pygments_lexer": "ipython3",
   "version": "3.10.6"
  }
 },
 "nbformat": 4,
 "nbformat_minor": 5
}
